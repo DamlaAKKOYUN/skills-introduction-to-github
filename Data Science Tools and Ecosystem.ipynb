{
 "cells": [
  {
   "cell_type": "markdown",
   "id": "27affb41-8230-4c5a-ba87-b1cbd20efd1d",
   "metadata": {},
   "source": [
    "print (\"Data Science Tools and Ecosystem\")"
   ]
  },
  {
   "cell_type": "markdown",
   "id": "9d6b99c0-417a-465e-9a6f-f78d6203f05e",
   "metadata": {},
   "source": [
    "## In this notebook, Data Science Tools and Ecosystem are summarized."
   ]
  },
  {
   "cell_type": "markdown",
   "id": "0b22633a-4aab-4cb6-8c44-1c0fa44b347c",
   "metadata": {},
   "source": [
    "## Some of the popular languages that Data Scientists use are:"
   ]
  },
  {
   "cell_type": "markdown",
   "id": "0036a860-aca0-4895-96af-f95860a2c86b",
   "metadata": {},
   "source": [
    "\n",
    "1. Python \n",
    "2. SQL\n",
    "3. R"
   ]
  },
  {
   "cell_type": "markdown",
   "id": "b10d1128-5fdd-4ea3-8470-a1ddf8cf3543",
   "metadata": {},
   "source": [
    "markdown\n",
    "### List popular languages for Data Science\n",
    "\n",
    "- Python\n",
    "- R\n",
    "- SQL\n",
    "- Java\n",
    "- Scala"
   ]
  },
  {
   "cell_type": "markdown",
   "id": "7054d13f-e308-425c-8877-272a10325640",
   "metadata": {},
   "source": [
    "markdown\n",
    "### Data Science Libraries\n",
    "\n",
    "Here are some popular data science libraries:\n",
    "\n",
    "- NumPy\n",
    "- Pandas\n",
    "- Matplotlib"
   ]
  },
  {
   "cell_type": "markdown",
   "id": "972f4834-9649-474b-be95-e5ef488164cb",
   "metadata": {},
   "source": [
    "\n",
    "### Data Science Tools\n",
    "\n",
    "| Tool         | Description                               |\n",
    "|--------------|-------------------------------------------|\n",
    "| Python       | General-purpose programming language       |\n",
    "| R            | Statistical programming language           |\n",
    "| SQL          | Database query language                    |\n",
    "| NumPy        | Numerical computing library for Python     |\n",
    "| Pandas       | Data manipulation and analysis library     |\n"
   ]
  },
  {
   "cell_type": "markdown",
   "id": "a5a45934-f66c-42fb-bcb5-fa575489b5d8",
   "metadata": {},
   "source": [
    " Create a markdown cell introducing arithmetic expression examples\n",
    " markdown\n",
    "### Arithmetic Expression Examples\n",
    "\n",
    "Here are some examples of arithmetic expressions:\n",
    "\n",
    "1. Addition: `2 + 3 = 5`\n",
    "2. Subtraction: `5 - 2 = 3`\n",
    "3. Multiplication: `4 * 3 = 12`\n",
    "4. Division: `10 / 2 = 5`\n",
    "5. Exponentiation: `2 ** 3 = 8`\n",
    "6. Modulo: `10 % 3 = 1`\n",
    "\n",
    "You can use these operators to perform various calculations in Python or other programming languages.\n",
    "\n"
   ]
  },
  {
   "cell_type": "markdown",
   "id": "643b29aa-56d8-418d-88f0-31429aa4c415",
   "metadata": {},
   "source": [
    "# Multiply two numbers\n",
    "num1 = 3\n",
    "num2 = 4\n",
    "num3 = 5\n",
    "product =(num1*num2)+num3\n",
    "print(\"Product:\", product)"
   ]
  },
  {
   "cell_type": "code",
   "execution_count": 4,
   "id": "e43c9843-a31c-4536-8161-06ff4adc4f69",
   "metadata": {},
   "outputs": [
    {
     "name": "stdout",
     "output_type": "stream",
     "text": [
      "Product: 15\n",
      "Sum: 17\n"
     ]
    }
   ],
   "source": [
    "# Multiply two numbers\n",
    "num1 = 5\n",
    "num2 = 3\n",
    "product = num1 * num2\n",
    "print(\"Product:\", product)\n",
    "\n",
    "# Add two numbers\n",
    "num3 = 10\n",
    "num4 = 7\n",
    "sum = num3 + num4\n",
    "print(\"Sum:\", sum)"
   ]
  },
  {
   "cell_type": "markdown",
   "id": "24a2905b-b0cb-4090-bb8d-3bfc10143ca4",
   "metadata": {},
   "source": [
    "# Multiply two numbers\n",
    "num1 = 5\n",
    "num2 = 3\n",
    "product = num1 * num2\n",
    "\n",
    "# Add a number to the sum\n",
    "num3 = 10\n",
    "sum_with_addition = product + num3\n",
    "\n",
    "print(\"Product:\", product)\n",
    "print(\"Sum with addition:\", sum_with_addition)"
   ]
  },
  {
   "cell_type": "code",
   "execution_count": 7,
   "id": "e2ca51df-593c-484e-aa5c-d663aef81a8b",
   "metadata": {},
   "outputs": [
    {
     "name": "stdout",
     "output_type": "stream",
     "text": [
      "Product: 15\n",
      "Sum with addition: 25\n"
     ]
    }
   ],
   "source": [
    "# Multiply two numbers\n",
    "num1 = 5\n",
    "num2 = 3\n",
    "product = num1 * num2\n",
    "\n",
    "# Add a number to the sum\n",
    "num3 = 10\n",
    "sum_with_addition = product + num3\n",
    "\n",
    "print(\"Product:\", product)\n",
    "print(\"Sum with addition:\", sum_with_addition)\n"
   ]
  },
  {
   "cell_type": "code",
   "execution_count": 19,
   "id": "79ba61d0-2157-41d9-9790-f471d3044783",
   "metadata": {},
   "outputs": [
    {
     "name": "stdout",
     "output_type": "stream",
     "text": [
      "Product: 12\n",
      "Sum with addition: 17\n"
     ]
    }
   ],
   "source": [
    "# Multiply two numbers\n",
    "num1 = 3\n",
    "num2 = 4\n",
    "product = num1 * num2\n",
    "\n",
    "# Add a number to the sum\n",
    "num3 = 5\n",
    "sum_with_addition = product + num3\n",
    "\n",
    "print(\"Product:\", product)\n",
    "print(\"Sum with addition:\", sum_with_addition)"
   ]
  },
  {
   "cell_type": "code",
   "execution_count": 11,
   "id": "59ef290f-223f-4276-904c-0877d5e707ac",
   "metadata": {},
   "outputs": [
    {
     "name": "stdout",
     "output_type": "stream",
     "text": [
      "Minutes: 200\n",
      "Hours: 3.3333333333333335\n"
     ]
    }
   ],
   "source": [
    "# Convert minutes to hours\n",
    "minutes = 200\n",
    "hours = minutes / 60\n",
    "\n",
    "print(\"Minutes:\", minutes)\n",
    "print(\"Hours:\", hours)"
   ]
  },
  {
   "cell_type": "markdown",
   "id": "dae016cf-b0cd-4b1f-b94d-a0f4d434b17c",
   "metadata": {},
   "source": [
    "markdown\n",
    "**Author: Damla AKKOYUN**"
   ]
  },
  {
   "cell_type": "code",
   "execution_count": null,
   "id": "a0468ae6-8a14-4323-8ed9-810c49e74e73",
   "metadata": {},
   "outputs": [],
   "source": []
  }
 ],
 "metadata": {
  "kernelspec": {
   "display_name": "scipy-tutorials-2023",
   "language": "python",
   "name": "conda-env-scipy-tutorials-2023-py"
  },
  "language_info": {
   "codemirror_mode": {
    "name": "ipython",
    "version": 3
   },
   "file_extension": ".py",
   "mimetype": "text/x-python",
   "name": "python",
   "nbconvert_exporter": "python",
   "pygments_lexer": "ipython3",
   "version": "3.10.0"
  }
 },
 "nbformat": 4,
 "nbformat_minor": 5
}
